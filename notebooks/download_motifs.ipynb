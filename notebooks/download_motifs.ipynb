{
 "cells": [
  {
   "cell_type": "markdown",
   "id": "8449a82b",
   "metadata": {},
   "source": [
    "# Download RNA hairpin and internal loops from [RNA 3D Motif Atlas](http://rna.bgsu.edu/rna3dhub/motifs)"
   ]
  },
  {
   "cell_type": "code",
   "execution_count": 1,
   "id": "da7783c9",
   "metadata": {},
   "outputs": [],
   "source": [
    "import os, sys, shutil\n",
    "import pathlib\n",
    "import glob as glob\n",
    "import numpy as np\n",
    "import json\n",
    "import wget\n",
    "import warnings"
   ]
  },
  {
   "cell_type": "code",
   "execution_count": 2,
   "id": "b5eb6c17",
   "metadata": {},
   "outputs": [],
   "source": [
    "def make_dir(output_path):\n",
    "    \"\"\"\n",
    "    create directory\n",
    "    \"\"\"\n",
    "    \n",
    "    if os.path.isdir(output_path):\n",
    "        print(\">remove directory: {}\".format(output_path))\n",
    "        shutil.rmtree(output_path)\n",
    "        \n",
    "    pathlib.Path(output_path).mkdir(parents=True, exist_ok=True) "
   ]
  },
  {
   "cell_type": "code",
   "execution_count": 3,
   "id": "785ea7f1",
   "metadata": {},
   "outputs": [],
   "source": [
    "def loadfile(file):\n",
    "    \"\"\"\n",
    "    Load json file and get motif IDs\n",
    "    \n",
    "    Parameters\n",
    "    ----------\n",
    "    file : str\n",
    "        Json file in full path\n",
    "        \n",
    "    Returns\n",
    "    -------\n",
    "    motif_ids : list of str\n",
    "        List of motif id\n",
    "    \"\"\"\n",
    "    \n",
    "    with open(file, 'r') as f:\n",
    "        mydict = json.load(f)\n",
    "        \n",
    "    motif_ids = [ d[\"motif_id\"] for d in mydict ]\n",
    "    assert len(motif_ids) == len(mydict), \"Duplicate motif id may be present. Number of motif id does not match total number of row found in {}.\".format(file)\n",
    "\n",
    "    return motif_ids"
   ]
  },
  {
   "cell_type": "code",
   "execution_count": 4,
   "id": "8580670c",
   "metadata": {},
   "outputs": [],
   "source": [
    "def download_cif(output_path, release_version, motif_ids, url):\n",
    "    \"\"\"\n",
    "    Download RNA coordinates using BGSU APIs (https://www.bgsu.edu/research/rna/APIs.html)\n",
    "    \n",
    "    Parameters\n",
    "    ----------\n",
    "    output_path : str\n",
    "        Full path pointing to the output cif file\n",
    "    release_version : str\n",
    "        Release version of RNA 3D Motif Atlas (e.g. HairpinLoopMotifAtlasRelease3.57)\n",
    "    motif_ids : list of str\n",
    "        Motif id (e.g. HL_6SVS_002)\n",
    "    url : str\n",
    "        API url to download RNA coordinates\n",
    "        \n",
    "    Returns\n",
    "    -------\n",
    "    \"\"\"\n",
    "    \n",
    "    for motif_id in motif_ids:\n",
    "        _url = url + motif_id\n",
    "        cif = os.path.join(output_path, \"dump\", motif_id + \".cif\")\n",
    "        \n",
    "        # check duplicate motif entry\n",
    "        if os.path.exists(cif):\n",
    "            warnings.warn(\"{} already exists. Duplicate motif entry.\".format(motif_id))\n",
    "        \n",
    "        try:\n",
    "            wget.download(_url, out=cif, bar=None)\n",
    "            extract_model(output_path, release_version, cif) \n",
    "        except:\n",
    "            warnings.warn(\"Could not download {}\\n{}\".format(motif_id, _url))"
   ]
  },
  {
   "cell_type": "code",
   "execution_count": 5,
   "id": "2bad9c36",
   "metadata": {},
   "outputs": [],
   "source": [
    "def extract_model(output_path, release_version, cif):\n",
    "    \"\"\"\n",
    "    Extract the first model from the cif file. The downloaded cif file contains two models. Model 1 is the RNA motif of interset and model 2 is the neighboring structures of model 1. \n",
    "    \n",
    "    Parameters\n",
    "    ----------\n",
    "    output_path : str\n",
    "        Full path pointing to the output cif file\n",
    "    release_version : str\n",
    "        Release version of RNA 3D Motif Atlas (e.g. HairpinLoopMotifAtlasRelease3.57)\n",
    "    cif : str\n",
    "        Downloaded cif file in full path\n",
    "    \n",
    "    Returns\n",
    "    -------\n",
    "    \"\"\"\n",
    "    arr = []\n",
    "    count = 0\n",
    "    with open(cif, \"r\") as f:\n",
    "        for l in f.readlines():\n",
    "            _l = l.strip('\\n').split()[0]\n",
    "\n",
    "            if _l.startswith(\"#\"):\n",
    "                count += 1\n",
    "            if count == 2:    \n",
    "                break\n",
    "                \n",
    "            arr.append(l)\n",
    "    \n",
    "    ofile = os.path.join(output_path, os.path.basename(cif))\n",
    "    with open(ofile, \"w\") as wf:\n",
    "        for l in arr:\n",
    "            wf.write(l)"
   ]
  },
  {
   "cell_type": "code",
   "execution_count": 8,
   "id": "508122ac",
   "metadata": {},
   "outputs": [
    {
     "name": "stdout",
     "output_type": "stream",
     "text": [
      "HairpinLoopMotifAtlasRelease3.61\n",
      "InternalLoopMotifAtlasRelease3.61\n"
     ]
    }
   ],
   "source": [
    "if __name__ == \"__main__\":\n",
    "    \n",
    "    url = \"http://rna.bgsu.edu/rna3dhub/rest/getCoordinates?coord=\"    \n",
    "    filenames = [ \"HairpinLoopMotifAtlasRelease3.61.json\", \"InternalLoopMotifAtlasRelease3.61.json\" ]\n",
    "    base_path = os.path.dirname(os.path.abspath(\"__file__\")).strip('notebooks')\n",
    "    \n",
    "    # download cif for each motif\n",
    "    for filename in filenames:\n",
    "        release_version = filename.split('.json')[0]\n",
    "        print(release_version)\n",
    "\n",
    "        # create output directory\n",
    "        output_path = os.path.join(base_path, \"data\", release_version)  \n",
    "        make_dir(output_path)\n",
    "        make_dir(os.path.join(output_path, \"dump\"))\n",
    " \n",
    "        file = os.path.join(base_path, \"data\", filename)\n",
    "        motif_ids = loadfile(file)\n",
    "        download_cif(output_path, file, motif_ids, url)"
   ]
  },
  {
   "cell_type": "markdown",
   "id": "b39f1869",
   "metadata": {},
   "source": [
    "#### redo if download was unsuccessful"
   ]
  },
  {
   "cell_type": "raw",
   "id": "67534b42",
   "metadata": {},
   "source": [
    "release_version = \"HairpinLoopMotifAtlasRelease3.61.json\"\n",
    "motif_id = \"HL_67265.4\"\n",
    "_url = url + motif_id\n",
    "\n",
    "cif = os.path.join(output_path, \"dump\", motif_id + \".cif\")\n",
    "wget.download(_url, out=cif, bar=None)\n",
    "extract_model(output_path, release_version, cif) "
   ]
  },
  {
   "cell_type": "raw",
   "id": "337d86b0",
   "metadata": {},
   "source": [
    "release_version = \"InternalLoopMotifAtlasRelease3.61.json\"\n",
    "motif_id = \"IL_60695.5\"\n",
    "_url = url + motif_id\n",
    "\n",
    "cif = os.path.join(output_path, \"dump\", motif_id + \".cif\")\n",
    "wget.download(_url, out=cif, bar=None)\n",
    "extract_model(output_path, release_version, cif) "
   ]
  },
  {
   "cell_type": "code",
   "execution_count": null,
   "id": "ddb3ae4d",
   "metadata": {},
   "outputs": [],
   "source": []
  }
 ],
 "metadata": {
  "kernelspec": {
   "display_name": "Python 3 (ipykernel)",
   "language": "python",
   "name": "python3"
  },
  "language_info": {
   "codemirror_mode": {
    "name": "ipython",
    "version": 3
   },
   "file_extension": ".py",
   "mimetype": "text/x-python",
   "name": "python",
   "nbconvert_exporter": "python",
   "pygments_lexer": "ipython3",
   "version": "3.10.5"
  }
 },
 "nbformat": 4,
 "nbformat_minor": 5
}
